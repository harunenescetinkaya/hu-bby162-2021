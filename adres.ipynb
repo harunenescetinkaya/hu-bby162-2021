{
  "nbformat": 4,
  "nbformat_minor": 0,
  "metadata": {
    "colab": {
      "name": "adres.ipynb adlı not defterinin kopyası",
      "provenance": [],
      "toc_visible": true,
      "mount_file_id": "https://github.com/harunenescetinkaya/hu-bby162-2021/blob/main/adres.ipynb",
      "authorship_tag": "ABX9TyOl7DDCG13tw7huQ7n1PJTi",
      "include_colab_link": true
    },
    "kernelspec": {
      "name": "python3",
      "display_name": "Python 3"
    },
    "language_info": {
      "name": "python"
    }
  },
  "cells": [
    {
      "cell_type": "markdown",
      "metadata": {
        "id": "view-in-github",
        "colab_type": "text"
      },
      "source": [
        "<a href=\"https://colab.research.google.com/github/harunenescetinkaya/hu-bby162-2021/blob/main/adres.ipynb\" target=\"_parent\"><img src=\"https://colab.research.google.com/assets/colab-badge.svg\" alt=\"Open In Colab\"/></a>"
      ]
    },
    {
      "cell_type": "code",
      "metadata": {
        "id": "DbsdAUTdGVG4",
        "outputId": "de621719-e4b4-4948-a1a8-5f635fe98923",
        "colab": {
          "base_uri": "https://localhost:8080/"
        }
      },
      "source": [
        "# dosya okuma ile ilgili çalışmam\n",
        "\n",
        "dosya = \"/content/drive/MyDrive/HU BBY 162 - 2021/adres.txt\"\n",
        "\n",
        "f = open (dosya, \"r\") \n",
        "\n",
        "for line in f.readlines():\n",
        "    print(line)\n",
        "\n",
        "f.close()"
      ],
      "execution_count": 4,
      "outputs": [
        {
          "output_type": "stream",
          "text": [
            "Ad - Soyad: Harun Enes Çetinkaya\n",
            "\n",
            "E-posta: ecetinkaya1999@hotmail.com\n",
            "\n"
          ],
          "name": "stdout"
        }
      ]
    },
    {
      "cell_type": "code",
      "metadata": {
        "colab": {
          "base_uri": "https://localhost:8080/"
        },
        "id": "8NM1dE3fhf77",
        "outputId": "52e32bf9-15c5-40e1-ea3f-a6c3b9ce2cb5"
      },
      "source": [
        "# dosya yazma ile ilgili çalışmam\n",
        "\n",
        "dosya = \"/content/drive/MyDrive/HU BBY 162 - 2021/adres.txt\"\n",
        "\n",
        "adSoyad = input(\"Adınızı ve soyadınızı giriniz: \")\n",
        "eposta = input(\"E-posta adresinizi giriniz: \")\n",
        "\n",
        "f = open(dosya, 'a') # Mevcut veriye ek veri yazılması için parametre: 'a'\n",
        "f.write(adSoyad + \" | \" + eposta + \"\\n\") # Her yeni verinin bir alt satıra yazdırılması \"test\\n\"\n",
        "f.close()\n",
        "\n",
        "dosya = \"/content/drive/MyDrive/HU BBY 162 - 2021/adres.txt\"\n",
        "\n",
        "f = open(dosya, \"r\")\n",
        "\n",
        "for line in f.readlines():\n",
        "    print(line)\n",
        "\n",
        "f.close()"
      ],
      "execution_count": 5,
      "outputs": [
        {
          "output_type": "stream",
          "text": [
            "Adınızı ve soyadınızı giriniz: Harun Enes Çetinkaya\n",
            "E-posta adresinizi giriniz: ecetinkaya1999@hotmail.com\n",
            "Ad - Soyad: Harun Enes Çetinkaya\n",
            "\n",
            "E-posta: ecetinkaya1999@hotmail.com\n",
            "\n",
            "Harun Enes Çetinkaya | ecetinkaya1999@hotmail.com\n",
            "\n"
          ],
          "name": "stdout"
        }
      ]
    }
  ]
}