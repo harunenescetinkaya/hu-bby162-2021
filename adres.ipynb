{
  "nbformat": 4,
  "nbformat_minor": 0,
  "metadata": {
    "colab": {
      "name": "adres.ipynb adlı not defterinin kopyası",
      "provenance": [],
      "mount_file_id": "1DmomX_TxKLFf_9xA0g26wERHlLzlPyOZ",
      "authorship_tag": "ABX9TyMweLydw0wvTM+pAwY7I3gc",
      "include_colab_link": true
    },
    "kernelspec": {
      "name": "python3",
      "display_name": "Python 3"
    },
    "language_info": {
      "name": "python"
    }
  },
  "cells": [
    {
      "cell_type": "markdown",
      "metadata": {
        "id": "view-in-github",
        "colab_type": "text"
      },
      "source": [
        "<a href=\"https://colab.research.google.com/github/harunenescetinkaya/hu-bby162-2021/blob/main/adres.ipynb\" target=\"_parent\"><img src=\"https://colab.research.google.com/assets/colab-badge.svg\" alt=\"Open In Colab\"/></a>"
      ]
    },
    {
      "cell_type": "code",
      "metadata": {
        "colab": {
          "base_uri": "https://localhost:8080/"
        },
        "id": "8NM1dE3fhf77",
        "outputId": "e3a4b2b8-ce29-4499-8c5f-ce0296c457ab"
      },
      "source": [
        "# dosya okuma ile ilgili çalışmam\n",
        "\n",
        "dosya = \"/content/drive/MyDrive/HU BBY 162 - 2021/adres.txt\"\n",
        "\n",
        "adSoyad = input(\"Adınızı soyadınızı giriniz: \")\n",
        "eposta = input(\"E-posta adresinizi giriniz: \")\n",
        "\n",
        "f = open(dosya, 'a') # Mevcut veriye ek veri yazılması için parametre: 'a'\n",
        "f.write(adSoyad + \" | \" + eposta + \"\\n\") # Her yeni verinin bir alt satıra yazdırılması \"test\\n\"\n",
        "f.close()\n",
        "\n",
        "dosya = \"/content/drive/MyDrive/HU BBY 162 - 2021/adres.txt\"\n",
        "\n",
        "f = open(dosya, \"r\")\n",
        "\n",
        "for line in f.readlines():\n",
        "    print(line)\n",
        "\n",
        "f.close()"
      ],
      "execution_count": null,
      "outputs": [
        {
          "output_type": "stream",
          "text": [
            "Adınızı soyadınızı giriniz: Harun Enes Çetinkaya\n",
            "E-posta adresinizi giriniz: ecetinkaya1999@hotmail.com\n",
            "Ad: Harun Enes\n",
            "\n",
            "Soyad: Çetinkaya\n",
            "\n",
            "E-posta: ecetinkaya1999@hotmail.com\n",
            "\n",
            "Harun Enes Çetinkaya | \n",
            "\n",
            "Harun Enes Çetinkaya | ecetinkaya1999@hotmail.com\n",
            "\n"
          ],
          "name": "stdout"
        }
      ]
    },
    {
      "cell_type": "code",
      "metadata": {
        "id": "V6-lno5nj6zn"
      },
      "source": [
        "# dosya yazma ile ilgili çalışmam\n"
      ],
      "execution_count": null,
      "outputs": []
    }
  ]
}