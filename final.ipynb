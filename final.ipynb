{
  "nbformat": 4,
  "nbformat_minor": 0,
  "metadata": {
    "colab": {
      "name": "final.ipynb",
      "provenance": [],
      "mount_file_id": "1cg-9BjsO3-CLYJfD_yBfycxYKPMIBZl0",
      "authorship_tag": "ABX9TyM8akBV8fThxNfSfMcU0QnZ",
      "include_colab_link": true
    },
    "kernelspec": {
      "name": "python3",
      "display_name": "Python 3"
    },
    "language_info": {
      "name": "python"
    }
  },
  "cells": [
    {
      "cell_type": "markdown",
      "metadata": {
        "id": "view-in-github",
        "colab_type": "text"
      },
      "source": [
        "<a href=\"https://colab.research.google.com/github/harunenescetinkaya/hu-bby162-2021/blob/main/final.ipynb\" target=\"_parent\"><img src=\"https://colab.research.google.com/assets/colab-badge.svg\" alt=\"Open In Colab\"/></a>"
      ]
    },
    {
      "cell_type": "code",
      "metadata": {
        "colab": {
          "base_uri": "https://localhost:8080/"
        },
        "id": "ibyBE6HEv84F",
        "outputId": "2bc07c06-c367-42ba-9e8e-87c3b98bdc6d"
      },
      "source": [
        "# Kütüphane Kataloğu Otomasyon Uygulaması\n",
        "# Veri tabanı: /content/drive/MyDrive/HU BBY 162 - 2021/final.txt\n",
        "\n",
        "dosya = \"/content/drive/MyDrive/HU BBY 162 - 2021/final.txt\"\n",
        "print(\"* Kütüphane Kataloğu Otomasyon Uygulamasına Hoş Geldiniz *\")\n",
        "\n",
        "def eserListele():\n",
        "  f = open(dosya, 'r')\n",
        "  for line in f.readlines():\n",
        "    print(line)\n",
        "  f.close()\n",
        "\n",
        "def eserKaydet():\n",
        "  eserAdi = input(\"Eser Adını Giriniz: \")\n",
        "  eserYazari = input(\"Yazar Adını Giriniz: \")\n",
        "  eserYayinevi = input(\"Yayınevi Bilgisini Giriniz: \")\n",
        "  eserIsbn = input(\"Eserin ISBN Bilgisini Giriniz: \")\n",
        "  \n",
        "  f = open(dosya, 'a' )\n",
        "  f.write(eserAdi + \" , \" + eserYazari + \" , \" + eserYayinevi + \" , \" + eserIsbn + '\\n')\n",
        "  print(\"Kayıt işlemi başarılı oldu.\")\n",
        "  f.close()\n",
        "  \n",
        "islemSecme = [\"listele\", \"ekle\", \"çıkış\"]\n",
        "while islemSecme:\n",
        "  girilen_islem = input(\"Katalogdaki eser listesini görüntülemek için 'listele' yazınız. \\n\"\n",
        "      \"Yeni eser kaydı eklemek için 'ekle' yazınız.\\n\"     \n",
        "      \"Sistemden çıkmak için 'çıkış' yazınız.\\n\"\n",
        "      \"Yapmak istediğiniz işlem için ilgili kelimeyi yazınız: \")\n",
        "  \n",
        "  if girilen_islem == islemSecme[0]:\n",
        "    print(\"/ Kütüphane Kataloğu Otomasyon Uygulamasına Hoş Geldiniz /\")\n",
        "    eserListele()\n",
        "  elif girilen_islem == islemSecme[1]:\n",
        "    print(\"Kataloğa yeni bir kayıt giriniz.\")\n",
        "    eserKaydet()\n",
        "  elif girilen_islem == islemSecme[2]:\n",
        "    break\n",
        "\n",
        "#Sonuç\n",
        "sonuc= \"Uygulamaya katıldığınız için teşekkür ederiz.\"\n",
        "print(sonuc)\n",
        "\n",
        "\n"
      ],
      "execution_count": 7,
      "outputs": [
        {
          "output_type": "stream",
          "text": [
            "* Kütüphane Kataloğu Otomasyon Uygulamasına Hoş Geldiniz *\n",
            "Katalogdaki eser listesini görüntülemek için 'listele' yazınız. \n",
            "Yeni eser kaydı eklemek için 'ekle' yazınız.\n",
            "Sistemden çıkmak için 'çıkış' yazınız.\n",
            "Yapmak istediğiniz işlem için ilgili kelimeyi yazınız: listele\n",
            "/ Kütüphane Kataloğu Otomasyon Uygulamasına Hoş Geldiniz /\n",
            "Savaş ve Barış, Tolstoy, Morpa Kültür Yayınları, 1999, 9757069035\n",
            "\n",
            "Elon Musk: Tesla Spacex Ve Muhteşem Geleceğin Peşinde, Ashlee Vance, Buzdağı Yayınları, 2016, 9786056685842\n",
            "\n",
            "Robin Hood, Howard Pyle, Kültür Yayınları, 2011, 9786053600862\n",
            "\n",
            "Denemeler, Michel de Montaigne, Gönül Yayıncılık, 2012, 9789944436878\n",
            "\n",
            "Değirmen, Sabahattin Ali, Mahzen Yayınevi, 2019, 9786058085008\n",
            "\n",
            "Melekler ve Şeytanlar, Dan Brown, Altın Kitaplar Yayınevi, 2004, 975210455\n",
            "\n",
            "Birinci Kıyamet: Güneşin Battığı Yer, Buğra Gülsoy, İnkılap Yayınevi, 2019, 9789751040183Harry Potter ve Sırlar Odası , J.K.Rowling , Yapı Kredi Yayınları , 9750802920\n",
            "\n",
            "Katalogdaki eser listesini görüntülemek için 'listele' yazınız. \n",
            "Yeni eser kaydı eklemek için 'ekle' yazınız.\n",
            "Sistemden çıkmak için 'çıkış' yazınız.\n",
            "Yapmak istediğiniz işlem için ilgili kelimeyi yazınız: ekle\n",
            "Kataloğa yeni bir kayıt giriniz.\n",
            "Eser Adını Giriniz: Harry Potter ve Sırlar Odası\n",
            "Yazar Adını Giriniz: J.K.Rowling\n",
            "Yayınevi Bilgisini Giriniz: Yapı Kredi Yayınları\n",
            "Eserin ISBN Bilgisini Giriniz: 9750802920\n",
            "Kayıt işlemi başarılı oldu.\n",
            "Katalogdaki eser listesini görüntülemek için 'listele' yazınız. \n",
            "Yeni eser kaydı eklemek için 'ekle' yazınız.\n",
            "Sistemden çıkmak için 'çıkış' yazınız.\n",
            "Yapmak istediğiniz işlem için ilgili kelimeyi yazınız: çıkış\n",
            "Uygulamaya katıldığınız için teşekkür ederiz.\n"
          ],
          "name": "stdout"
        }
      ]
    }
  ]
}